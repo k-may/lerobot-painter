{
 "cells": [
  {
   "cell_type": "code",
   "id": "initial_id",
   "metadata": {
    "collapsed": true,
    "ExecuteTime": {
     "end_time": "2025-10-31T12:28:28.784903Z",
     "start_time": "2025-10-31T12:28:28.765671Z"
    }
   },
   "source": [
    "import json\n",
    "import numpy as np\n",
    "\n",
    "\n",
    "with open(\"../drawing/drawing_config.json\", \"r\") as f:\n",
    "    config = json.load(f)\n",
    "\n",
    "T, u, v, normal, origin = np.array(config[\"T\"]), np.array(config[\"u\"]), np.array(config[\"v\"]), np.array(config[\"normal\"]), np.array(config[\"origin\"])\n",
    "\n",
    "poses = config[\"poses\"]\n",
    "print(\"origin: \", origin)\n",
    "print(\"u: \", u)\n",
    "print(\"v: \", v)\n",
    "print(\"normal: \", normal)\n",
    "print(\"\")"
   ],
   "outputs": [
    {
     "name": "stdout",
     "output_type": "stream",
     "text": [
      "origin:  [0.18211797 0.03280408 0.00242877]\n",
      "u:  [ 0.15464528 -0.98792259  0.00968467]\n",
      "v:  [-0.98792708 -0.15453969  0.0108433 ]\n",
      "normal:  [-0.00921567 -0.01124461 -0.99989431]\n",
      "\n"
     ]
    }
   ],
   "execution_count": 14
  },
  {
   "metadata": {
    "ExecuteTime": {
     "end_time": "2025-10-31T13:02:19.907778Z",
     "start_time": "2025-10-31T13:02:19.824311Z"
    }
   },
   "cell_type": "code",
   "source": [
    "import plotly.graph_objects as go\n",
    "from scipy.spatial.transform import Rotation as R\n",
    "\n",
    "def arrow(start, vec, color):\n",
    "    return go.Scatter3d(\n",
    "        x=[start[0], start[0] + vec[0]],\n",
    "        y=[start[1], start[1] + vec[1]],\n",
    "        z=[start[2], start[2] + vec[2]],\n",
    "        mode=\"lines+markers\",\n",
    "        line=dict(color=color, width=8),\n",
    "        marker=dict(size=3, color=color),\n",
    "    )\n",
    "\n",
    "fig = go.Figure()\n",
    "\n",
    "# Axes\n",
    "fig.add_trace(arrow(origin, u * 0.01, \"red\"))\n",
    "fig.add_trace(arrow(origin, v * 0.01, \"green\"))\n",
    "fig.add_trace(arrow(origin, normal * 0.01, \"black\"))\n",
    "\n",
    "# pose positions\n",
    "for i,s  in enumerate(poses):\n",
    "    pos = np.array([s[\"ee.x\"], s[\"ee.y\"], s[\"ee.z\"]])\n",
    "    rot = np.array([s[\"ee.wx\"], s[\"ee.wy\"], s[\"ee.wz\"]])\n",
    "    rot = R.from_euler('xyz', rot)\n",
    "    R_matrix = rot.as_matrix()\n",
    "    x_axis = R_matrix[:, 0]  # End-effector X axis in base frame\n",
    "    y_axis = R_matrix[:, 1]  # End-effector Y axis\n",
    "    z_axis = R_matrix[:, 2]  # End-effector Z axis\n",
    "\n",
    "    line_color = f\"rgb({i*15%255}, {i*30%255}, {i*45%255})\"\n",
    "    fig.add_trace(arrow(pos, z_axis * 0.01, line_color))\n",
    "    fig.add_trace(arrow(pos, x_axis * 0.01, \"yellow\"))\n",
    "    fig.add_trace(arrow(pos, y_axis * 0.01, \"purple\"))\n",
    "    # --- Define rotation of +20° (in radians) about local x-axis ---\n",
    "    angle_deg = -35\n",
    "    angle_rad = np.deg2rad(angle_deg)\n",
    "    R_local = R.from_rotvec(y_axis * angle_rad)  # rotate around local x-axis\n",
    "\n",
    "    # --- Apply this local rotation to z-axis ---\n",
    "    z_axis_rotated = R_local.apply(z_axis)\n",
    "\n",
    "    #move along x_axis by 0.02m\n",
    "    pos = pos + x_axis * 0.02\n",
    "    pos = pos + z_axis * 0.05  # lift a bit\n",
    "    fig.add_trace(arrow(pos, z_axis_rotated * 0.05, \"cyan\"))\n",
    "\n",
    "    fig.add_trace(\n",
    "        go.Scatter3d(\n",
    "            x=[pos[0]],\n",
    "            y=[pos[1]],\n",
    "            z=[pos[2]],\n",
    "            mode=\"markers\",\n",
    "            marker=dict(size=4, color=\"blue\"),\n",
    "        )\n",
    "    )\n",
    "\n",
    "# Layout\n",
    "fig.update_layout(\n",
    "    scene=dict(\n",
    "        xaxis_title=\"X\", yaxis_title=\"Y\", zaxis_title=\"Z\",\n",
    "        aspectmode=\"cube\"\n",
    "    ),\n",
    "    title=\"Interactive TCP Visualization\",\n",
    ")\n",
    "fig.show()"
   ],
   "id": "47a32b998559e0c3",
   "outputs": [
    {
     "data": {
      "application/vnd.plotly.v1+json": {
       "data": [
        {
         "line": {
          "color": "red",
          "width": 8
         },
         "marker": {
          "color": "red",
          "size": 3
         },
         "mode": "lines+markers",
         "x": [
          0.18211797285840514,
          0.1836644256944152
         ],
         "y": [
          0.032804076136704156,
          0.022924850238767357
         ],
         "z": [
          0.002428766551831383,
          0.0025256132530202605
         ],
         "type": "scatter3d"
        },
        {
         "line": {
          "color": "green",
          "width": 8
         },
         "marker": {
          "color": "green",
          "size": 3
         },
         "mode": "lines+markers",
         "x": [
          0.18211797285840514,
          0.1722387020978762
         ],
         "y": [
          0.032804076136704156,
          0.031258679253887096
         ],
         "z": [
          0.002428766551831383,
          0.0025371995483657573
         ],
         "type": "scatter3d"
        },
        {
         "line": {
          "color": "black",
          "width": 8
         },
         "marker": {
          "color": "black",
          "size": 3
         },
         "mode": "lines+markers",
         "x": [
          0.18211797285840514,
          0.18202581611066265
         ],
         "y": [
          0.032804076136704156,
          0.032691630006872495
         ],
         "z": [
          0.002428766551831383,
          -0.007570176542402697
         ],
         "type": "scatter3d"
        },
        {
         "line": {
          "color": "rgb(0, 0, 0)",
          "width": 8
         },
         "marker": {
          "color": "rgb(0, 0, 0)",
          "size": 3
         },
         "mode": "lines+markers",
         "x": [
          0.2332200934104722,
          0.23134842628290272
         ],
         "y": [
          0.09912764874314312,
          0.09435997571629029
         ],
         "z": [
          -0.002705391021625453,
          -0.011294113631687773
         ],
         "type": "scatter3d"
        },
        {
         "line": {
          "color": "yellow",
          "width": 8
         },
         "marker": {
          "color": "yellow",
          "size": 3
         },
         "mode": "lines+markers",
         "x": [
          0.2332200934104722,
          0.22363133332277946
         ],
         "y": [
          0.09912764874314312,
          0.09811528819989253
         ],
         "z": [
          -0.002705391021625453,
          -5.382429398312176E-5
         ],
         "type": "scatter3d"
        },
        {
         "line": {
          "color": "purple",
          "width": 8
         },
         "marker": {
          "color": "purple",
          "size": 3
         },
         "mode": "lines+markers",
         "x": [
          0.2332200934104722,
          0.23108642470510898
         ],
         "y": [
          0.09912764874314312,
          0.10785945382797461
         ],
         "z": [
          -0.002705391021625453,
          -0.007087518109725976
         ],
         "type": "scatter3d"
        },
        {
         "line": {
          "color": "cyan",
          "width": 8
         },
         "marker": {
          "color": "cyan",
          "size": 3
         },
         "mode": "lines+markers",
         "x": [
          0.20468423759723933,
          0.22451777202897388
         ],
         "y": [
          0.07326456252237779,
          0.05664064775363828
         ],
         "z": [
          -0.0403458706166524,
          -0.08312760000791106
         ],
         "type": "scatter3d"
        },
        {
         "marker": {
          "color": "blue",
          "size": 4
         },
         "mode": "markers",
         "x": [
          0.20468423759723933
         ],
         "y": [
          0.07326456252237779
         ],
         "z": [
          -0.0403458706166524
         ],
         "type": "scatter3d"
        },
        {
         "line": {
          "color": "rgb(15, 30, 45)",
          "width": 8
         },
         "marker": {
          "color": "rgb(15, 30, 45)",
          "size": 3
         },
         "mode": "lines+markers",
         "x": [
          0.2547830989673974,
          0.2523992417804608
         ],
         "y": [
          -0.03877770216455046,
          -0.03424826912324456
         ],
         "z": [
          -0.0035513430087482645,
          -0.012142120693953316
         ],
         "type": "scatter3d"
        },
        {
         "line": {
          "color": "yellow",
          "width": 8
         },
         "marker": {
          "color": "yellow",
          "size": 3
         },
         "mode": "lines+markers",
         "x": [
          0.2547830989673974,
          0.24515608010669152
         ],
         "y": [
          -0.03877770216455046,
          -0.03871417593065512
         ],
         "z": [
          -0.0035513430087482645,
          -8.464451782896516E-4
         ],
         "type": "scatter3d"
        },
        {
         "line": {
          "color": "purple",
          "width": 8
         },
         "marker": {
          "color": "purple",
          "size": 3
         },
         "mode": "lines+markers",
         "x": [
          0.2547830989673974,
          0.25606283830331833
         ],
         "y": [
          -0.03877770216455046,
          -0.029862535270883606
         ],
         "z": [
          -0.0035513430087482645,
          7.940069760243385E-4
         ],
         "type": "scatter3d"
        },
        {
         "line": {
          "color": "cyan",
          "width": 8
         },
         "marker": {
          "color": "cyan",
          "size": 3
         },
         "mode": "lines+markers",
         "x": [
          0.22360977531130255,
          0.24145522372548195
         ],
         "y": [
          -0.016003484490230258,
          0.002365801431786451
         ],
         "z": [
          -0.041095435773856305,
          -0.0840385295796368
         ],
         "type": "scatter3d"
        },
        {
         "marker": {
          "color": "blue",
          "size": 4
         },
         "mode": "markers",
         "x": [
          0.22360977531130255
         ],
         "y": [
          -0.016003484490230258
         ],
         "z": [
          -0.041095435773856305
         ],
         "type": "scatter3d"
        },
        {
         "line": {
          "color": "rgb(30, 60, 90)",
          "width": 8
         },
         "marker": {
          "color": "rgb(30, 60, 90)",
          "size": 3
         },
         "mode": "lines+markers",
         "x": [
          0.17203382552817434,
          0.17060701421971103
         ],
         "y": [
          0.11859896561747936,
          0.110921117773599
         ],
         "z": [
          0.01164885963368019,
          0.005402671838211414
         ],
         "type": "scatter3d"
        },
        {
         "line": {
          "color": "yellow",
          "width": 8
         },
         "marker": {
          "color": "yellow",
          "size": 3
         },
         "mode": "lines+markers",
         "x": [
          0.17203382552817434,
          0.16323478802717173
         ],
         "y": [
          0.11859896561747936,
          0.11669316937762365
         ],
         "z": [
          0.01164885963368019,
          0.016001431258375352
         ],
         "type": "scatter3d"
        },
        {
         "line": {
          "color": "purple",
          "width": 8
         },
         "marker": {
          "color": "purple",
          "size": 3
         },
         "mode": "lines+markers",
         "x": [
          0.17203382552817434,
          0.16750159114037058
         ],
         "y": [
          0.11859896561747936,
          0.12471603952404398
         ],
         "z": [
          0.01164885963368019,
          0.005165013685815955
         ],
         "type": "scatter3d"
        },
        {
         "line": {
          "color": "cyan",
          "width": 8
         },
         "marker": {
          "color": "cyan",
          "size": 3
         },
         "mode": "lines+markers",
         "x": [
          0.14730169398385257,
          0.1666924198488622
         ],
         "y": [
          0.07639813391836618,
          0.05041710921143237
         ],
         "z": [
          -0.01087693609427336,
          -0.04894248620990603
         ],
         "type": "scatter3d"
        },
        {
         "marker": {
          "color": "blue",
          "size": 4
         },
         "mode": "markers",
         "x": [
          0.14730169398385257
         ],
         "y": [
          0.07639813391836618
         ],
         "z": [
          -0.01087693609427336
         ],
         "type": "scatter3d"
        },
        {
         "line": {
          "color": "rgb(45, 90, 135)",
          "width": 8
         },
         "marker": {
          "color": "rgb(45, 90, 135)",
          "size": 3
         },
         "mode": "lines+markers",
         "x": [
          0.17673042928176463,
          0.17322907621148448
         ],
         "y": [
          -0.05238917038012587,
          -0.04583546155188387
         ],
         "z": [
          0.018527441423327295,
          0.011834951059354944
         ],
         "type": "scatter3d"
        },
        {
         "line": {
          "color": "yellow",
          "width": 8
         },
         "marker": {
          "color": "yellow",
          "size": 3
         },
         "mode": "lines+markers",
         "x": [
          0.17673042928176463,
          0.16813583124952208
         ],
         "y": [
          -0.05238917038012587,
          -0.05179587054162556
         ],
         "z": [
          0.018527441423327295,
          0.023604928987645678
         ],
         "type": "scatter3d"
        },
        {
         "line": {
          "color": "purple",
          "width": 8
         },
         "marker": {
          "color": "purple",
          "size": 3
         },
         "mode": "lines+markers",
         "x": [
          0.17673042928176463,
          0.18045513213453185
         ],
         "y": [
          -0.05238917038012587,
          -0.04485943626156242
         ],
         "z": [
          0.018527441423327295,
          0.023952355502124253
         ],
         "type": "scatter3d"
        },
        {
         "line": {
          "color": "cyan",
          "width": 8
         },
         "marker": {
          "color": "cyan",
          "size": 3
         },
         "mode": "lines+markers",
         "x": [
          0.14203446786587878,
          0.1523420597954082
         ],
         "y": [
          -0.018434026561915264,
          0.006706879324457654
         ],
         "z": [
          -0.004780035267897689,
          -0.0467525071968518
         ],
         "type": "scatter3d"
        },
        {
         "marker": {
          "color": "blue",
          "size": 4
         },
         "mode": "markers",
         "x": [
          0.14203446786587878
         ],
         "y": [
          -0.018434026561915264
         ],
         "z": [
          -0.004780035267897689
         ],
         "type": "scatter3d"
        },
        {
         "line": {
          "color": "rgb(60, 120, 180)",
          "width": 8
         },
         "marker": {
          "color": "rgb(60, 120, 180)",
          "size": 3
         },
         "mode": "lines+markers",
         "x": [
          0.1316569507157193,
          0.13099999972858403
         ],
         "y": [
          0.1227049510394132,
          0.11346240435331192
         ],
         "z": [
          -0.004077691470871378,
          -0.00783850869000609
         ],
         "type": "scatter3d"
        },
        {
         "line": {
          "color": "yellow",
          "width": 8
         },
         "marker": {
          "color": "yellow",
          "size": 3
         },
         "mode": "lines+markers",
         "x": [
          0.1316569507157193,
          0.12206011863995596
         ],
         "y": [
          0.1227049510394132,
          0.1222579044654331
         ],
         "z": [
          -0.004077691470871378,
          -0.0013026304859032516
         ],
         "type": "scatter3d"
        },
        {
         "line": {
          "color": "purple",
          "width": 8
         },
         "marker": {
          "color": "purple",
          "size": 3
         },
         "mode": "lines+markers",
         "x": [
          0.1316569507157193,
          0.12892396159936675
         ],
         "y": [
          0.1227049510394132,
          0.12649645207672425
         ],
         "z": [
          -0.004077691470871378,
          -0.012918239551955922
         ],
         "type": "scatter3d"
        },
        {
         "line": {
          "color": "cyan",
          "width": 8
         },
         "marker": {
          "color": "cyan",
          "size": 3
         },
         "mode": "lines+markers",
         "x": [
          0.10917853162851615,
          0.1340104016193472
         ],
         "y": [
          0.07559812446094659,
          0.039024946303097274
         ],
         "z": [
          -0.01733165559660868,
          -0.04069360911494009
         ],
         "type": "scatter3d"
        },
        {
         "marker": {
          "color": "blue",
          "size": 4
         },
         "mode": "markers",
         "x": [
          0.10917853162851615
         ],
         "y": [
          0.07559812446094659
         ],
         "z": [
          -0.01733165559660868
         ],
         "type": "scatter3d"
        },
        {
         "line": {
          "color": "rgb(75, 150, 225)",
          "width": 8
         },
         "marker": {
          "color": "rgb(75, 150, 225)",
          "size": 3
         },
         "mode": "lines+markers",
         "x": [
          0.12428343924690306,
          0.12315514279556504
         ],
         "y": [
          -0.05244023603513443,
          -0.04375399060694528
         ],
         "z": [
          -0.005269276244774093,
          -0.010093806012446905
         ],
         "type": "scatter3d"
        },
        {
         "line": {
          "color": "yellow",
          "width": 8
         },
         "marker": {
          "color": "yellow",
          "size": 3
         },
         "mode": "lines+markers",
         "x": [
          0.12428343924690306,
          0.11468348167694305
         ],
         "y": [
          -0.05244023603513443,
          -0.05214087079709642
         ],
         "z": [
          -0.005269276244774093,
          -0.0024851794236807933
         ],
         "type": "scatter3d"
        },
        {
         "line": {
          "color": "purple",
          "width": 8
         },
         "marker": {
          "color": "purple",
          "size": 3
         },
         "mode": "lines+markers",
         "x": [
          0.12428343924690306,
          0.1268462037255209
         ],
         "y": [
          -0.05244023603513443,
          -0.047494579272325525
         ],
         "z": [
          -0.005269276244774093,
          0.003035705236940186
         ],
         "type": "scatter3d"
        },
        {
         "line": {
          "color": "cyan",
          "width": 8
         },
         "marker": {
          "color": "cyan",
          "size": 3
         },
         "mode": "lines+markers",
         "x": [
          0.09944204185029291,
          0.1223523573873997
         ],
         "y": [
          -0.008410278418112656,
          0.026307955848366496
         ],
         "z": [
          -0.023823731440951547,
          -0.05156831021605779
         ],
         "type": "scatter3d"
        },
        {
         "marker": {
          "color": "blue",
          "size": 4
         },
         "mode": "markers",
         "x": [
          0.09944204185029291
         ],
         "y": [
          -0.008410278418112656
         ],
         "z": [
          -0.023823731440951547
         ],
         "type": "scatter3d"
        }
       ],
       "layout": {
        "template": {
         "data": {
          "histogram2dcontour": [
           {
            "type": "histogram2dcontour",
            "colorbar": {
             "outlinewidth": 0,
             "ticks": ""
            },
            "colorscale": [
             [
              0.0,
              "#0d0887"
             ],
             [
              0.1111111111111111,
              "#46039f"
             ],
             [
              0.2222222222222222,
              "#7201a8"
             ],
             [
              0.3333333333333333,
              "#9c179e"
             ],
             [
              0.4444444444444444,
              "#bd3786"
             ],
             [
              0.5555555555555556,
              "#d8576b"
             ],
             [
              0.6666666666666666,
              "#ed7953"
             ],
             [
              0.7777777777777778,
              "#fb9f3a"
             ],
             [
              0.8888888888888888,
              "#fdca26"
             ],
             [
              1.0,
              "#f0f921"
             ]
            ]
           }
          ],
          "choropleth": [
           {
            "type": "choropleth",
            "colorbar": {
             "outlinewidth": 0,
             "ticks": ""
            }
           }
          ],
          "histogram2d": [
           {
            "type": "histogram2d",
            "colorbar": {
             "outlinewidth": 0,
             "ticks": ""
            },
            "colorscale": [
             [
              0.0,
              "#0d0887"
             ],
             [
              0.1111111111111111,
              "#46039f"
             ],
             [
              0.2222222222222222,
              "#7201a8"
             ],
             [
              0.3333333333333333,
              "#9c179e"
             ],
             [
              0.4444444444444444,
              "#bd3786"
             ],
             [
              0.5555555555555556,
              "#d8576b"
             ],
             [
              0.6666666666666666,
              "#ed7953"
             ],
             [
              0.7777777777777778,
              "#fb9f3a"
             ],
             [
              0.8888888888888888,
              "#fdca26"
             ],
             [
              1.0,
              "#f0f921"
             ]
            ]
           }
          ],
          "heatmap": [
           {
            "type": "heatmap",
            "colorbar": {
             "outlinewidth": 0,
             "ticks": ""
            },
            "colorscale": [
             [
              0.0,
              "#0d0887"
             ],
             [
              0.1111111111111111,
              "#46039f"
             ],
             [
              0.2222222222222222,
              "#7201a8"
             ],
             [
              0.3333333333333333,
              "#9c179e"
             ],
             [
              0.4444444444444444,
              "#bd3786"
             ],
             [
              0.5555555555555556,
              "#d8576b"
             ],
             [
              0.6666666666666666,
              "#ed7953"
             ],
             [
              0.7777777777777778,
              "#fb9f3a"
             ],
             [
              0.8888888888888888,
              "#fdca26"
             ],
             [
              1.0,
              "#f0f921"
             ]
            ]
           }
          ],
          "contourcarpet": [
           {
            "type": "contourcarpet",
            "colorbar": {
             "outlinewidth": 0,
             "ticks": ""
            }
           }
          ],
          "contour": [
           {
            "type": "contour",
            "colorbar": {
             "outlinewidth": 0,
             "ticks": ""
            },
            "colorscale": [
             [
              0.0,
              "#0d0887"
             ],
             [
              0.1111111111111111,
              "#46039f"
             ],
             [
              0.2222222222222222,
              "#7201a8"
             ],
             [
              0.3333333333333333,
              "#9c179e"
             ],
             [
              0.4444444444444444,
              "#bd3786"
             ],
             [
              0.5555555555555556,
              "#d8576b"
             ],
             [
              0.6666666666666666,
              "#ed7953"
             ],
             [
              0.7777777777777778,
              "#fb9f3a"
             ],
             [
              0.8888888888888888,
              "#fdca26"
             ],
             [
              1.0,
              "#f0f921"
             ]
            ]
           }
          ],
          "surface": [
           {
            "type": "surface",
            "colorbar": {
             "outlinewidth": 0,
             "ticks": ""
            },
            "colorscale": [
             [
              0.0,
              "#0d0887"
             ],
             [
              0.1111111111111111,
              "#46039f"
             ],
             [
              0.2222222222222222,
              "#7201a8"
             ],
             [
              0.3333333333333333,
              "#9c179e"
             ],
             [
              0.4444444444444444,
              "#bd3786"
             ],
             [
              0.5555555555555556,
              "#d8576b"
             ],
             [
              0.6666666666666666,
              "#ed7953"
             ],
             [
              0.7777777777777778,
              "#fb9f3a"
             ],
             [
              0.8888888888888888,
              "#fdca26"
             ],
             [
              1.0,
              "#f0f921"
             ]
            ]
           }
          ],
          "mesh3d": [
           {
            "type": "mesh3d",
            "colorbar": {
             "outlinewidth": 0,
             "ticks": ""
            }
           }
          ],
          "scatter": [
           {
            "fillpattern": {
             "fillmode": "overlay",
             "size": 10,
             "solidity": 0.2
            },
            "type": "scatter"
           }
          ],
          "parcoords": [
           {
            "type": "parcoords",
            "line": {
             "colorbar": {
              "outlinewidth": 0,
              "ticks": ""
             }
            }
           }
          ],
          "scatterpolargl": [
           {
            "type": "scatterpolargl",
            "marker": {
             "colorbar": {
              "outlinewidth": 0,
              "ticks": ""
             }
            }
           }
          ],
          "bar": [
           {
            "error_x": {
             "color": "#2a3f5f"
            },
            "error_y": {
             "color": "#2a3f5f"
            },
            "marker": {
             "line": {
              "color": "#E5ECF6",
              "width": 0.5
             },
             "pattern": {
              "fillmode": "overlay",
              "size": 10,
              "solidity": 0.2
             }
            },
            "type": "bar"
           }
          ],
          "scattergeo": [
           {
            "type": "scattergeo",
            "marker": {
             "colorbar": {
              "outlinewidth": 0,
              "ticks": ""
             }
            }
           }
          ],
          "scatterpolar": [
           {
            "type": "scatterpolar",
            "marker": {
             "colorbar": {
              "outlinewidth": 0,
              "ticks": ""
             }
            }
           }
          ],
          "histogram": [
           {
            "marker": {
             "pattern": {
              "fillmode": "overlay",
              "size": 10,
              "solidity": 0.2
             }
            },
            "type": "histogram"
           }
          ],
          "scattergl": [
           {
            "type": "scattergl",
            "marker": {
             "colorbar": {
              "outlinewidth": 0,
              "ticks": ""
             }
            }
           }
          ],
          "scatter3d": [
           {
            "type": "scatter3d",
            "line": {
             "colorbar": {
              "outlinewidth": 0,
              "ticks": ""
             }
            },
            "marker": {
             "colorbar": {
              "outlinewidth": 0,
              "ticks": ""
             }
            }
           }
          ],
          "scattermap": [
           {
            "type": "scattermap",
            "marker": {
             "colorbar": {
              "outlinewidth": 0,
              "ticks": ""
             }
            }
           }
          ],
          "scattermapbox": [
           {
            "type": "scattermapbox",
            "marker": {
             "colorbar": {
              "outlinewidth": 0,
              "ticks": ""
             }
            }
           }
          ],
          "scatterternary": [
           {
            "type": "scatterternary",
            "marker": {
             "colorbar": {
              "outlinewidth": 0,
              "ticks": ""
             }
            }
           }
          ],
          "scattercarpet": [
           {
            "type": "scattercarpet",
            "marker": {
             "colorbar": {
              "outlinewidth": 0,
              "ticks": ""
             }
            }
           }
          ],
          "carpet": [
           {
            "aaxis": {
             "endlinecolor": "#2a3f5f",
             "gridcolor": "white",
             "linecolor": "white",
             "minorgridcolor": "white",
             "startlinecolor": "#2a3f5f"
            },
            "baxis": {
             "endlinecolor": "#2a3f5f",
             "gridcolor": "white",
             "linecolor": "white",
             "minorgridcolor": "white",
             "startlinecolor": "#2a3f5f"
            },
            "type": "carpet"
           }
          ],
          "table": [
           {
            "cells": {
             "fill": {
              "color": "#EBF0F8"
             },
             "line": {
              "color": "white"
             }
            },
            "header": {
             "fill": {
              "color": "#C8D4E3"
             },
             "line": {
              "color": "white"
             }
            },
            "type": "table"
           }
          ],
          "barpolar": [
           {
            "marker": {
             "line": {
              "color": "#E5ECF6",
              "width": 0.5
             },
             "pattern": {
              "fillmode": "overlay",
              "size": 10,
              "solidity": 0.2
             }
            },
            "type": "barpolar"
           }
          ],
          "pie": [
           {
            "automargin": true,
            "type": "pie"
           }
          ]
         },
         "layout": {
          "autotypenumbers": "strict",
          "colorway": [
           "#636efa",
           "#EF553B",
           "#00cc96",
           "#ab63fa",
           "#FFA15A",
           "#19d3f3",
           "#FF6692",
           "#B6E880",
           "#FF97FF",
           "#FECB52"
          ],
          "font": {
           "color": "#2a3f5f"
          },
          "hovermode": "closest",
          "hoverlabel": {
           "align": "left"
          },
          "paper_bgcolor": "white",
          "plot_bgcolor": "#E5ECF6",
          "polar": {
           "bgcolor": "#E5ECF6",
           "angularaxis": {
            "gridcolor": "white",
            "linecolor": "white",
            "ticks": ""
           },
           "radialaxis": {
            "gridcolor": "white",
            "linecolor": "white",
            "ticks": ""
           }
          },
          "ternary": {
           "bgcolor": "#E5ECF6",
           "aaxis": {
            "gridcolor": "white",
            "linecolor": "white",
            "ticks": ""
           },
           "baxis": {
            "gridcolor": "white",
            "linecolor": "white",
            "ticks": ""
           },
           "caxis": {
            "gridcolor": "white",
            "linecolor": "white",
            "ticks": ""
           }
          },
          "coloraxis": {
           "colorbar": {
            "outlinewidth": 0,
            "ticks": ""
           }
          },
          "colorscale": {
           "sequential": [
            [
             0.0,
             "#0d0887"
            ],
            [
             0.1111111111111111,
             "#46039f"
            ],
            [
             0.2222222222222222,
             "#7201a8"
            ],
            [
             0.3333333333333333,
             "#9c179e"
            ],
            [
             0.4444444444444444,
             "#bd3786"
            ],
            [
             0.5555555555555556,
             "#d8576b"
            ],
            [
             0.6666666666666666,
             "#ed7953"
            ],
            [
             0.7777777777777778,
             "#fb9f3a"
            ],
            [
             0.8888888888888888,
             "#fdca26"
            ],
            [
             1.0,
             "#f0f921"
            ]
           ],
           "sequentialminus": [
            [
             0.0,
             "#0d0887"
            ],
            [
             0.1111111111111111,
             "#46039f"
            ],
            [
             0.2222222222222222,
             "#7201a8"
            ],
            [
             0.3333333333333333,
             "#9c179e"
            ],
            [
             0.4444444444444444,
             "#bd3786"
            ],
            [
             0.5555555555555556,
             "#d8576b"
            ],
            [
             0.6666666666666666,
             "#ed7953"
            ],
            [
             0.7777777777777778,
             "#fb9f3a"
            ],
            [
             0.8888888888888888,
             "#fdca26"
            ],
            [
             1.0,
             "#f0f921"
            ]
           ],
           "diverging": [
            [
             0,
             "#8e0152"
            ],
            [
             0.1,
             "#c51b7d"
            ],
            [
             0.2,
             "#de77ae"
            ],
            [
             0.3,
             "#f1b6da"
            ],
            [
             0.4,
             "#fde0ef"
            ],
            [
             0.5,
             "#f7f7f7"
            ],
            [
             0.6,
             "#e6f5d0"
            ],
            [
             0.7,
             "#b8e186"
            ],
            [
             0.8,
             "#7fbc41"
            ],
            [
             0.9,
             "#4d9221"
            ],
            [
             1,
             "#276419"
            ]
           ]
          },
          "xaxis": {
           "gridcolor": "white",
           "linecolor": "white",
           "ticks": "",
           "title": {
            "standoff": 15
           },
           "zerolinecolor": "white",
           "automargin": true,
           "zerolinewidth": 2
          },
          "yaxis": {
           "gridcolor": "white",
           "linecolor": "white",
           "ticks": "",
           "title": {
            "standoff": 15
           },
           "zerolinecolor": "white",
           "automargin": true,
           "zerolinewidth": 2
          },
          "scene": {
           "xaxis": {
            "backgroundcolor": "#E5ECF6",
            "gridcolor": "white",
            "linecolor": "white",
            "showbackground": true,
            "ticks": "",
            "zerolinecolor": "white",
            "gridwidth": 2
           },
           "yaxis": {
            "backgroundcolor": "#E5ECF6",
            "gridcolor": "white",
            "linecolor": "white",
            "showbackground": true,
            "ticks": "",
            "zerolinecolor": "white",
            "gridwidth": 2
           },
           "zaxis": {
            "backgroundcolor": "#E5ECF6",
            "gridcolor": "white",
            "linecolor": "white",
            "showbackground": true,
            "ticks": "",
            "zerolinecolor": "white",
            "gridwidth": 2
           }
          },
          "shapedefaults": {
           "line": {
            "color": "#2a3f5f"
           }
          },
          "annotationdefaults": {
           "arrowcolor": "#2a3f5f",
           "arrowhead": 0,
           "arrowwidth": 1
          },
          "geo": {
           "bgcolor": "white",
           "landcolor": "#E5ECF6",
           "subunitcolor": "white",
           "showland": true,
           "showlakes": true,
           "lakecolor": "white"
          },
          "title": {
           "x": 0.05
          },
          "mapbox": {
           "style": "light"
          }
         }
        },
        "scene": {
         "xaxis": {
          "title": {
           "text": "X"
          }
         },
         "yaxis": {
          "title": {
           "text": "Y"
          }
         },
         "zaxis": {
          "title": {
           "text": "Z"
          }
         },
         "aspectmode": "cube"
        },
        "title": {
         "text": "Interactive TCP Visualization"
        }
       },
       "config": {
        "plotlyServerURL": "https://plot.ly"
       }
      }
     },
     "metadata": {},
     "output_type": "display_data"
    }
   ],
   "execution_count": 52
  },
  {
   "metadata": {},
   "cell_type": "code",
   "outputs": [],
   "execution_count": null,
   "source": "",
   "id": "996f0dfdeaf7c259"
  }
 ],
 "metadata": {
  "kernelspec": {
   "display_name": "Python 3",
   "language": "python",
   "name": "python3"
  },
  "language_info": {
   "codemirror_mode": {
    "name": "ipython",
    "version": 2
   },
   "file_extension": ".py",
   "mimetype": "text/x-python",
   "name": "python",
   "nbconvert_exporter": "python",
   "pygments_lexer": "ipython2",
   "version": "2.7.6"
  }
 },
 "nbformat": 4,
 "nbformat_minor": 5
}
