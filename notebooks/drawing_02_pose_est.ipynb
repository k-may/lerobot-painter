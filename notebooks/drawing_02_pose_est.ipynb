{
 "cells": [
  {
   "cell_type": "code",
   "id": "initial_id",
   "metadata": {
    "collapsed": true,
    "ExecuteTime": {
     "end_time": "2025-10-31T14:05:20.494811Z",
     "start_time": "2025-10-31T14:05:20.153498Z"
    }
   },
   "source": [
    "import json\n",
    "import numpy as np\n",
    "from scipy.spatial.transform import Rotation as R\n",
    "\n",
    "with open(\"../drawing/drawing_config.json\", \"r\") as f:\n",
    "    config = json.load(f)\n",
    "\n",
    "T, u, v, normal, origin = np.array(config[\"T\"]), np.array(config[\"u\"]), np.array(config[\"v\"]), np.array(config[\"normal\"]), np.array(config[\"origin\"])\n",
    "\n",
    "poses = config[\"poses\"]\n",
    "print(\"origin: \", origin)\n",
    "print(\"u: \", u)\n",
    "print(\"v: \", v)\n",
    "print(\"normal: \", normal)\n",
    "print(\"\")\n",
    "\n",
    "# pose positions\n",
    "for i, s in enumerate(poses):\n",
    "    pos = np.array([s[\"ee.x\"], s[\"ee.y\"], s[\"ee.z\"]])\n",
    "    rot = np.array([s[\"ee.wx\"], s[\"ee.wy\"], s[\"ee.wz\"]])\n",
    "    rot = R.from_euler('xyz', rot)\n",
    "    R_matrix = rot.as_matrix()\n",
    "    x_axis = R_matrix[:, 0]  # End-effector X axis in base frame\n",
    "    y_axis = R_matrix[:, 1]  # End-effector Y axis\n",
    "    z_axis = R_matrix[:, 2]  # End-effector Z axis\n",
    "\n",
    "    tol = 1e-9\n",
    "    print(\"Orthonormal check:\",\n",
    "          np.allclose(np.linalg.norm(x_axis), 1.0, atol=tol) and\n",
    "          np.allclose(np.linalg.norm(y_axis), 1.0, atol=tol) and\n",
    "          np.allclose(np.linalg.norm(z_axis), 1.0, atol=tol) and\n",
    "          abs(np.dot(x_axis, y_axis)) < tol and\n",
    "          abs(np.dot(y_axis, z_axis)) < tol and\n",
    "          abs(np.dot(z_axis, x_axis)) < tol)"
   ],
   "outputs": [
    {
     "name": "stdout",
     "output_type": "stream",
     "text": [
      "origin:  [0.37375529 0.03547287 0.20453626]\n",
      "u:  [ 0.51249895 -0.85856793 -0.01435049]\n",
      "v:  [ 0.85418625  0.51145002 -0.09372689]\n",
      "normal:  [0.08781046 0.03577694 0.99549452]\n",
      "\n",
      "Orthonormal check: True\n",
      "Orthonormal check: True\n",
      "Orthonormal check: True\n",
      "Orthonormal check: True\n",
      "Orthonormal check: True\n",
      "Orthonormal check: True\n",
      "Orthonormal check: True\n",
      "Orthonormal check: True\n",
      "Orthonormal check: True\n",
      "Orthonormal check: True\n"
     ]
    }
   ],
   "execution_count": 1
  },
  {
   "metadata": {
    "ExecuteTime": {
     "end_time": "2025-10-31T14:07:57.224758Z",
     "start_time": "2025-10-31T14:07:57.140448Z"
    }
   },
   "cell_type": "code",
   "source": [
    "\n",
    "def plot_poses(T, u,v,origin, normal, poses):\n",
    "    import plotly.graph_objects as go\n",
    "    from scipy.spatial.transform import Rotation as R\n",
    "\n",
    "    def arrow(start, vec, color, name=\"\"):\n",
    "        return go.Scatter3d(\n",
    "            x=[start[0], start[0] + vec[0]],\n",
    "            y=[start[1], start[1] + vec[1]],\n",
    "            z=[start[2], start[2] + vec[2]],\n",
    "            mode=\"lines+markers\",\n",
    "            line=dict(color=color, width=4),\n",
    "            marker=dict(size=3, color=color),\n",
    "            name=name\n",
    "        )\n",
    "\n",
    "    fig = go.Figure()\n",
    "\n",
    "    # Axes\n",
    "    fig.add_trace(arrow(origin, u * 0.01, \"red\", \"u\"))\n",
    "    fig.add_trace(arrow(origin, v * 0.01, \"green\", \"v\"))\n",
    "    fig.add_trace(arrow(origin, normal * 0.01, \"black\", \"normal\"))\n",
    "\n",
    "    # pose positions\n",
    "    for i, s in enumerate(poses):\n",
    "        pos = np.array([s[\"ee.x\"], s[\"ee.y\"], s[\"ee.z\"]])\n",
    "        rot = np.array([s[\"ee.wx\"], s[\"ee.wy\"], s[\"ee.wz\"]])\n",
    "        rot = R.from_euler('xyz', rot)\n",
    "        R_matrix = rot.as_matrix()\n",
    "        x_axis = R_matrix[:, 0]  # End-effector X axis in base frame\n",
    "        y_axis = R_matrix[:, 1]  # End-effector Y axis\n",
    "        z_axis = R_matrix[:, 2]  # End-effector Z axis\n",
    "\n",
    "        line_color = f\"rgb({i * 15 % 255}, {i * 30 % 255}, 255)\"\n",
    "        # fig.add_trace(arrow(pos, z_axis * 0.01, 'blue'))\n",
    "        fig.add_trace(arrow(pos, x_axis * 0.01, \"red\", \"xaxis\"))\n",
    "        # fig.add_trace(arrow(pos, y_axis * 0.01, \"green\"))\n",
    "        # --- Define rotation of +20° (in radians) about local x-axis ---\n",
    "        angle_deg = -35\n",
    "        angle_rad = np.deg2rad(angle_deg)\n",
    "        R_local = R.from_rotvec(y_axis * angle_rad)  # rotate around local x-axis\n",
    "\n",
    "        # --- Apply this local rotation to z-axis ---\n",
    "        z_axis_rotated = R_local.apply(z_axis)\n",
    "\n",
    "        # move along x_axis by 0.02m\n",
    "        pos = pos + x_axis * 0.03\n",
    "        pos = pos + z_axis * 0.07  # lift a bit\n",
    "        # fig.add_trace(arrow(pos, z_axis_rotated * 0.05, line_color, \"z-axis rotated\"))\n",
    "        #\n",
    "        # fig.add_trace(\n",
    "        #     go.Scatter3d(\n",
    "        #         x=[pos[0]],\n",
    "        #         y=[pos[1]],\n",
    "        #         z=[pos[2]],\n",
    "        #         mode=\"markers\",\n",
    "        #         marker=dict(size=4, color=\"blue\"),\n",
    "        #     )\n",
    "        # )\n",
    "\n",
    "    # Layout\n",
    "    r = 0.12\n",
    "    fig.update_layout(\n",
    "        scene=dict(\n",
    "            xaxis=dict(range=[origin[0] - r, origin[0] + r], title='X'),\n",
    "            yaxis=dict(range=[origin[1] - r, origin[1] + r], title='Y'),\n",
    "            zaxis=dict(range=[origin[2] - r, origin[2] + r], title='Z'),\n",
    "            aspectmode='cube'\n",
    "        ),\n",
    "        margin=dict(l=0, r=0, t=40, b=0),\n",
    "        title=\"Interactive TCP Visualization\",\n",
    "    )\n",
    "    fig.show()\n",
    "\n",
    "plot_poses(T, u, v, origin, normal, poses)"
   ],
   "id": "47a32b998559e0c3",
   "outputs": [
    {
     "data": {
      "application/vnd.plotly.v1+json": {
       "data": [
        {
         "line": {
          "color": "red",
          "width": 4
         },
         "marker": {
          "color": "red",
          "size": 3
         },
         "mode": "lines+markers",
         "name": "u",
         "x": [
          0.3737552937681188,
          0.3788802832789633
         ],
         "y": [
          0.03547286819891936,
          0.02688718890900934
         ],
         "z": [
          0.20453626064158636,
          0.2043927557826296
         ],
         "type": "scatter3d"
        },
        {
         "line": {
          "color": "green",
          "width": 4
         },
         "marker": {
          "color": "green",
          "size": 3
         },
         "mode": "lines+markers",
         "name": "v",
         "x": [
          0.3737552937681188,
          0.38229715626387517
         ],
         "y": [
          0.03547286819891936,
          0.04058736838565478
         ],
         "z": [
          0.20453626064158636,
          0.20359899176689034
         ],
         "type": "scatter3d"
        },
        {
         "line": {
          "color": "black",
          "width": 4
         },
         "marker": {
          "color": "black",
          "size": 3
         },
         "mode": "lines+markers",
         "name": "normal",
         "x": [
          0.3737552937681188,
          0.3746333983275674
         ],
         "y": [
          0.03547286819891936,
          0.035830637636817014
         ],
         "z": [
          0.20453626064158636,
          0.21449120581531694
         ],
         "type": "scatter3d"
        },
        {
         "line": {
          "color": "red",
          "width": 4
         },
         "marker": {
          "color": "red",
          "size": 3
         },
         "mode": "lines+markers",
         "name": "xaxis",
         "x": [
          0.330689690064011,
          0.3305925274164582
         ],
         "y": [
          0.20557590904810072,
          0.20552248530764136
         ],
         "z": [
          0.20041690126561948,
          0.19041751601832174
         ],
         "type": "scatter3d"
        },
        {
         "line": {
          "color": "red",
          "width": 4
         },
         "marker": {
          "color": "red",
          "size": 3
         },
         "mode": "lines+markers",
         "name": "xaxis",
         "x": [
          0.3502042360799641,
          0.35002403819309824
         ],
         "y": [
          0.1734005863103446,
          0.1733193834459606
         ],
         "z": [
          0.2026893277190709,
          0.19269128116905
         ],
         "type": "scatter3d"
        },
        {
         "line": {
          "color": "red",
          "width": 4
         },
         "marker": {
          "color": "red",
          "size": 3
         },
         "mode": "lines+markers",
         "name": "xaxis",
         "x": [
          0.3663405140763854,
          0.36598306543604936
         ],
         "y": [
          0.14205921933641003,
          0.14193010248343088
         ],
         "z": [
          0.2004167327181289,
          0.1904239573625133
         ],
         "type": "scatter3d"
        },
        {
         "line": {
          "color": "red",
          "width": 4
         },
         "marker": {
          "color": "red",
          "size": 3
         },
         "mode": "lines+markers",
         "name": "xaxis",
         "x": [
          0.37897158816941584,
          0.37860998142924857
         ],
         "y": [
          0.10561222421863577,
          0.10551421464266084
         ],
         "z": [
          0.2035969895169095,
          0.1936040102470179
         ],
         "type": "scatter3d"
        },
        {
         "line": {
          "color": "red",
          "width": 4
         },
         "marker": {
          "color": "red",
          "size": 3
         },
         "mode": "lines+markers",
         "name": "xaxis",
         "x": [
          0.38948373462981967,
          0.38906682985870106
         ],
         "y": [
          0.06169130803881227,
          0.06162106097930359
         ],
         "z": [
          0.20405054105925313,
          0.19405948226839173
         ],
         "type": "scatter3d"
        },
        {
         "line": {
          "color": "red",
          "width": 4
         },
         "marker": {
          "color": "red",
          "size": 3
         },
         "mode": "lines+markers",
         "name": "xaxis",
         "x": [
          0.3945156519668613,
          0.3940796957380858
         ],
         "y": [
          0.0158639432284376,
          0.015834759459587795
         ],
         "z": [
          0.20405041945219018,
          0.1940599694886386
         ],
         "type": "scatter3d"
        },
        {
         "line": {
          "color": "red",
          "width": 4
         },
         "marker": {
          "color": "red",
          "size": 3
         },
         "mode": "lines+markers",
         "name": "xaxis",
         "x": [
          0.3932522134766787,
          0.39286792415410793
         ],
         "y": [
          -0.03258708763981893,
          -0.03257229279219406
         ],
         "z": [
          0.2045037892999756,
          0.19451118689474392
         ],
         "type": "scatter3d"
        },
        {
         "line": {
          "color": "red",
          "width": 4
         },
         "marker": {
          "color": "red",
          "size": 3
         },
         "mode": "lines+markers",
         "name": "xaxis",
         "x": [
          0.386804337959351,
          0.38648911175191697
         ],
         "y": [
          -0.07535115328538752,
          -0.07530917823837265
         ],
         "z": [
          0.2040501774047954,
          0.1940552351571596
         ],
         "type": "scatter3d"
        },
        {
         "line": {
          "color": "red",
          "width": 4
         },
         "marker": {
          "color": "red",
          "size": 3
         },
         "mode": "lines+markers",
         "name": "xaxis",
         "x": [
          0.37752244328105394,
          0.3773082918618381
         ],
         "y": [
          -0.10977838200245668,
          -0.10973280023288022
         ],
         "z": [
          0.20405008604911803,
          0.1940524832628532
         ],
         "type": "scatter3d"
        },
        {
         "line": {
          "color": "red",
          "width": 4
         },
         "marker": {
          "color": "red",
          "size": 3
         },
         "mode": "lines+markers",
         "name": "xaxis",
         "x": [
          0.3697685279776474,
          0.37006343603894715
         ],
         "y": [
          -0.1317578852638845,
          -0.13183780069659132
         ],
         "z": [
          0.21753764193080252,
          0.2075423108828084
         ],
         "type": "scatter3d"
        }
       ],
       "layout": {
        "template": {
         "data": {
          "histogram2dcontour": [
           {
            "type": "histogram2dcontour",
            "colorbar": {
             "outlinewidth": 0,
             "ticks": ""
            },
            "colorscale": [
             [
              0.0,
              "#0d0887"
             ],
             [
              0.1111111111111111,
              "#46039f"
             ],
             [
              0.2222222222222222,
              "#7201a8"
             ],
             [
              0.3333333333333333,
              "#9c179e"
             ],
             [
              0.4444444444444444,
              "#bd3786"
             ],
             [
              0.5555555555555556,
              "#d8576b"
             ],
             [
              0.6666666666666666,
              "#ed7953"
             ],
             [
              0.7777777777777778,
              "#fb9f3a"
             ],
             [
              0.8888888888888888,
              "#fdca26"
             ],
             [
              1.0,
              "#f0f921"
             ]
            ]
           }
          ],
          "choropleth": [
           {
            "type": "choropleth",
            "colorbar": {
             "outlinewidth": 0,
             "ticks": ""
            }
           }
          ],
          "histogram2d": [
           {
            "type": "histogram2d",
            "colorbar": {
             "outlinewidth": 0,
             "ticks": ""
            },
            "colorscale": [
             [
              0.0,
              "#0d0887"
             ],
             [
              0.1111111111111111,
              "#46039f"
             ],
             [
              0.2222222222222222,
              "#7201a8"
             ],
             [
              0.3333333333333333,
              "#9c179e"
             ],
             [
              0.4444444444444444,
              "#bd3786"
             ],
             [
              0.5555555555555556,
              "#d8576b"
             ],
             [
              0.6666666666666666,
              "#ed7953"
             ],
             [
              0.7777777777777778,
              "#fb9f3a"
             ],
             [
              0.8888888888888888,
              "#fdca26"
             ],
             [
              1.0,
              "#f0f921"
             ]
            ]
           }
          ],
          "heatmap": [
           {
            "type": "heatmap",
            "colorbar": {
             "outlinewidth": 0,
             "ticks": ""
            },
            "colorscale": [
             [
              0.0,
              "#0d0887"
             ],
             [
              0.1111111111111111,
              "#46039f"
             ],
             [
              0.2222222222222222,
              "#7201a8"
             ],
             [
              0.3333333333333333,
              "#9c179e"
             ],
             [
              0.4444444444444444,
              "#bd3786"
             ],
             [
              0.5555555555555556,
              "#d8576b"
             ],
             [
              0.6666666666666666,
              "#ed7953"
             ],
             [
              0.7777777777777778,
              "#fb9f3a"
             ],
             [
              0.8888888888888888,
              "#fdca26"
             ],
             [
              1.0,
              "#f0f921"
             ]
            ]
           }
          ],
          "contourcarpet": [
           {
            "type": "contourcarpet",
            "colorbar": {
             "outlinewidth": 0,
             "ticks": ""
            }
           }
          ],
          "contour": [
           {
            "type": "contour",
            "colorbar": {
             "outlinewidth": 0,
             "ticks": ""
            },
            "colorscale": [
             [
              0.0,
              "#0d0887"
             ],
             [
              0.1111111111111111,
              "#46039f"
             ],
             [
              0.2222222222222222,
              "#7201a8"
             ],
             [
              0.3333333333333333,
              "#9c179e"
             ],
             [
              0.4444444444444444,
              "#bd3786"
             ],
             [
              0.5555555555555556,
              "#d8576b"
             ],
             [
              0.6666666666666666,
              "#ed7953"
             ],
             [
              0.7777777777777778,
              "#fb9f3a"
             ],
             [
              0.8888888888888888,
              "#fdca26"
             ],
             [
              1.0,
              "#f0f921"
             ]
            ]
           }
          ],
          "surface": [
           {
            "type": "surface",
            "colorbar": {
             "outlinewidth": 0,
             "ticks": ""
            },
            "colorscale": [
             [
              0.0,
              "#0d0887"
             ],
             [
              0.1111111111111111,
              "#46039f"
             ],
             [
              0.2222222222222222,
              "#7201a8"
             ],
             [
              0.3333333333333333,
              "#9c179e"
             ],
             [
              0.4444444444444444,
              "#bd3786"
             ],
             [
              0.5555555555555556,
              "#d8576b"
             ],
             [
              0.6666666666666666,
              "#ed7953"
             ],
             [
              0.7777777777777778,
              "#fb9f3a"
             ],
             [
              0.8888888888888888,
              "#fdca26"
             ],
             [
              1.0,
              "#f0f921"
             ]
            ]
           }
          ],
          "mesh3d": [
           {
            "type": "mesh3d",
            "colorbar": {
             "outlinewidth": 0,
             "ticks": ""
            }
           }
          ],
          "scatter": [
           {
            "fillpattern": {
             "fillmode": "overlay",
             "size": 10,
             "solidity": 0.2
            },
            "type": "scatter"
           }
          ],
          "parcoords": [
           {
            "type": "parcoords",
            "line": {
             "colorbar": {
              "outlinewidth": 0,
              "ticks": ""
             }
            }
           }
          ],
          "scatterpolargl": [
           {
            "type": "scatterpolargl",
            "marker": {
             "colorbar": {
              "outlinewidth": 0,
              "ticks": ""
             }
            }
           }
          ],
          "bar": [
           {
            "error_x": {
             "color": "#2a3f5f"
            },
            "error_y": {
             "color": "#2a3f5f"
            },
            "marker": {
             "line": {
              "color": "#E5ECF6",
              "width": 0.5
             },
             "pattern": {
              "fillmode": "overlay",
              "size": 10,
              "solidity": 0.2
             }
            },
            "type": "bar"
           }
          ],
          "scattergeo": [
           {
            "type": "scattergeo",
            "marker": {
             "colorbar": {
              "outlinewidth": 0,
              "ticks": ""
             }
            }
           }
          ],
          "scatterpolar": [
           {
            "type": "scatterpolar",
            "marker": {
             "colorbar": {
              "outlinewidth": 0,
              "ticks": ""
             }
            }
           }
          ],
          "histogram": [
           {
            "marker": {
             "pattern": {
              "fillmode": "overlay",
              "size": 10,
              "solidity": 0.2
             }
            },
            "type": "histogram"
           }
          ],
          "scattergl": [
           {
            "type": "scattergl",
            "marker": {
             "colorbar": {
              "outlinewidth": 0,
              "ticks": ""
             }
            }
           }
          ],
          "scatter3d": [
           {
            "type": "scatter3d",
            "line": {
             "colorbar": {
              "outlinewidth": 0,
              "ticks": ""
             }
            },
            "marker": {
             "colorbar": {
              "outlinewidth": 0,
              "ticks": ""
             }
            }
           }
          ],
          "scattermap": [
           {
            "type": "scattermap",
            "marker": {
             "colorbar": {
              "outlinewidth": 0,
              "ticks": ""
             }
            }
           }
          ],
          "scattermapbox": [
           {
            "type": "scattermapbox",
            "marker": {
             "colorbar": {
              "outlinewidth": 0,
              "ticks": ""
             }
            }
           }
          ],
          "scatterternary": [
           {
            "type": "scatterternary",
            "marker": {
             "colorbar": {
              "outlinewidth": 0,
              "ticks": ""
             }
            }
           }
          ],
          "scattercarpet": [
           {
            "type": "scattercarpet",
            "marker": {
             "colorbar": {
              "outlinewidth": 0,
              "ticks": ""
             }
            }
           }
          ],
          "carpet": [
           {
            "aaxis": {
             "endlinecolor": "#2a3f5f",
             "gridcolor": "white",
             "linecolor": "white",
             "minorgridcolor": "white",
             "startlinecolor": "#2a3f5f"
            },
            "baxis": {
             "endlinecolor": "#2a3f5f",
             "gridcolor": "white",
             "linecolor": "white",
             "minorgridcolor": "white",
             "startlinecolor": "#2a3f5f"
            },
            "type": "carpet"
           }
          ],
          "table": [
           {
            "cells": {
             "fill": {
              "color": "#EBF0F8"
             },
             "line": {
              "color": "white"
             }
            },
            "header": {
             "fill": {
              "color": "#C8D4E3"
             },
             "line": {
              "color": "white"
             }
            },
            "type": "table"
           }
          ],
          "barpolar": [
           {
            "marker": {
             "line": {
              "color": "#E5ECF6",
              "width": 0.5
             },
             "pattern": {
              "fillmode": "overlay",
              "size": 10,
              "solidity": 0.2
             }
            },
            "type": "barpolar"
           }
          ],
          "pie": [
           {
            "automargin": true,
            "type": "pie"
           }
          ]
         },
         "layout": {
          "autotypenumbers": "strict",
          "colorway": [
           "#636efa",
           "#EF553B",
           "#00cc96",
           "#ab63fa",
           "#FFA15A",
           "#19d3f3",
           "#FF6692",
           "#B6E880",
           "#FF97FF",
           "#FECB52"
          ],
          "font": {
           "color": "#2a3f5f"
          },
          "hovermode": "closest",
          "hoverlabel": {
           "align": "left"
          },
          "paper_bgcolor": "white",
          "plot_bgcolor": "#E5ECF6",
          "polar": {
           "bgcolor": "#E5ECF6",
           "angularaxis": {
            "gridcolor": "white",
            "linecolor": "white",
            "ticks": ""
           },
           "radialaxis": {
            "gridcolor": "white",
            "linecolor": "white",
            "ticks": ""
           }
          },
          "ternary": {
           "bgcolor": "#E5ECF6",
           "aaxis": {
            "gridcolor": "white",
            "linecolor": "white",
            "ticks": ""
           },
           "baxis": {
            "gridcolor": "white",
            "linecolor": "white",
            "ticks": ""
           },
           "caxis": {
            "gridcolor": "white",
            "linecolor": "white",
            "ticks": ""
           }
          },
          "coloraxis": {
           "colorbar": {
            "outlinewidth": 0,
            "ticks": ""
           }
          },
          "colorscale": {
           "sequential": [
            [
             0.0,
             "#0d0887"
            ],
            [
             0.1111111111111111,
             "#46039f"
            ],
            [
             0.2222222222222222,
             "#7201a8"
            ],
            [
             0.3333333333333333,
             "#9c179e"
            ],
            [
             0.4444444444444444,
             "#bd3786"
            ],
            [
             0.5555555555555556,
             "#d8576b"
            ],
            [
             0.6666666666666666,
             "#ed7953"
            ],
            [
             0.7777777777777778,
             "#fb9f3a"
            ],
            [
             0.8888888888888888,
             "#fdca26"
            ],
            [
             1.0,
             "#f0f921"
            ]
           ],
           "sequentialminus": [
            [
             0.0,
             "#0d0887"
            ],
            [
             0.1111111111111111,
             "#46039f"
            ],
            [
             0.2222222222222222,
             "#7201a8"
            ],
            [
             0.3333333333333333,
             "#9c179e"
            ],
            [
             0.4444444444444444,
             "#bd3786"
            ],
            [
             0.5555555555555556,
             "#d8576b"
            ],
            [
             0.6666666666666666,
             "#ed7953"
            ],
            [
             0.7777777777777778,
             "#fb9f3a"
            ],
            [
             0.8888888888888888,
             "#fdca26"
            ],
            [
             1.0,
             "#f0f921"
            ]
           ],
           "diverging": [
            [
             0,
             "#8e0152"
            ],
            [
             0.1,
             "#c51b7d"
            ],
            [
             0.2,
             "#de77ae"
            ],
            [
             0.3,
             "#f1b6da"
            ],
            [
             0.4,
             "#fde0ef"
            ],
            [
             0.5,
             "#f7f7f7"
            ],
            [
             0.6,
             "#e6f5d0"
            ],
            [
             0.7,
             "#b8e186"
            ],
            [
             0.8,
             "#7fbc41"
            ],
            [
             0.9,
             "#4d9221"
            ],
            [
             1,
             "#276419"
            ]
           ]
          },
          "xaxis": {
           "gridcolor": "white",
           "linecolor": "white",
           "ticks": "",
           "title": {
            "standoff": 15
           },
           "zerolinecolor": "white",
           "automargin": true,
           "zerolinewidth": 2
          },
          "yaxis": {
           "gridcolor": "white",
           "linecolor": "white",
           "ticks": "",
           "title": {
            "standoff": 15
           },
           "zerolinecolor": "white",
           "automargin": true,
           "zerolinewidth": 2
          },
          "scene": {
           "xaxis": {
            "backgroundcolor": "#E5ECF6",
            "gridcolor": "white",
            "linecolor": "white",
            "showbackground": true,
            "ticks": "",
            "zerolinecolor": "white",
            "gridwidth": 2
           },
           "yaxis": {
            "backgroundcolor": "#E5ECF6",
            "gridcolor": "white",
            "linecolor": "white",
            "showbackground": true,
            "ticks": "",
            "zerolinecolor": "white",
            "gridwidth": 2
           },
           "zaxis": {
            "backgroundcolor": "#E5ECF6",
            "gridcolor": "white",
            "linecolor": "white",
            "showbackground": true,
            "ticks": "",
            "zerolinecolor": "white",
            "gridwidth": 2
           }
          },
          "shapedefaults": {
           "line": {
            "color": "#2a3f5f"
           }
          },
          "annotationdefaults": {
           "arrowcolor": "#2a3f5f",
           "arrowhead": 0,
           "arrowwidth": 1
          },
          "geo": {
           "bgcolor": "white",
           "landcolor": "#E5ECF6",
           "subunitcolor": "white",
           "showland": true,
           "showlakes": true,
           "lakecolor": "white"
          },
          "title": {
           "x": 0.05
          },
          "mapbox": {
           "style": "light"
          }
         }
        },
        "scene": {
         "xaxis": {
          "range": [
           0.2537552937681188,
           0.4937552937681188
          ],
          "title": {
           "text": "X"
          }
         },
         "yaxis": {
          "range": [
           -0.08452713180108064,
           0.15547286819891937
          ],
          "title": {
           "text": "Y"
          }
         },
         "zaxis": {
          "range": [
           0.08453626064158637,
           0.32453626064158636
          ],
          "title": {
           "text": "Z"
          }
         },
         "aspectmode": "cube"
        },
        "margin": {
         "l": 0,
         "r": 0,
         "t": 40,
         "b": 0
        },
        "title": {
         "text": "Interactive TCP Visualization"
        }
       },
       "config": {
        "plotlyServerURL": "https://plot.ly"
       }
      }
     },
     "metadata": {},
     "output_type": "display_data"
    }
   ],
   "execution_count": 6
  },
  {
   "metadata": {},
   "cell_type": "code",
   "source": "",
   "id": "996f0dfdeaf7c259",
   "outputs": [],
   "execution_count": null
  }
 ],
 "metadata": {
  "kernelspec": {
   "display_name": "Python 3",
   "language": "python",
   "name": "python3"
  },
  "language_info": {
   "codemirror_mode": {
    "name": "ipython",
    "version": 2
   },
   "file_extension": ".py",
   "mimetype": "text/x-python",
   "name": "python",
   "nbconvert_exporter": "python",
   "pygments_lexer": "ipython2",
   "version": "2.7.6"
  }
 },
 "nbformat": 4,
 "nbformat_minor": 5
}
