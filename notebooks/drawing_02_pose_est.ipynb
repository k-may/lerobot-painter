{
 "cells": [
  {
   "cell_type": "code",
   "id": "initial_id",
   "metadata": {
    "collapsed": true,
    "ExecuteTime": {
     "end_time": "2025-10-31T08:04:32.064097Z",
     "start_time": "2025-10-31T08:04:32.057853Z"
    }
   },
   "source": [
    "import json\n",
    "import numpy as np\n",
    "\n",
    "from drawing.draw_svg import poses\n",
    "\n",
    "with open(\"../drawing/drawing_config.json\", \"r\") as f:\n",
    "    config = json.load(f)\n",
    "\n",
    "T, u, v, normal, origin = np.array(config[\"T\"]), np.array(config[\"u\"]), np.array(config[\"v\"]), np.array(config[\"normal\"]), np.array(config[\"origin\"])\n",
    "\n",
    "print(\"poses: \", config[\"poses\"])\n",
    "print(\"origin: \", origin)\n",
    "print(\"u: \", u)\n",
    "print(\"v: \", v)\n",
    "print(\"normal: \", normal)\n",
    "print(\"\")"
   ],
   "outputs": [
    {
     "name": "stdout",
     "output_type": "stream",
     "text": [
      "poses:  [{'ee.x': 0.2332200934104722, 'ee.y': 0.09912764874314312, 'ee.z': -0.002705391021625453, 'ee.wx': 0.47178912893823455, 'ee.wy': -2.873226245896773, 'ee.wz': 0.10518815843955037, 'ee.gripper_pos': 71.81153533712428}, {'ee.x': 0.2547830989673974, 'ee.y': -0.03877770216455046, 'ee.z': -0.0035513430087482645, 'ee.wx': -0.46828931504575055, 'ee.wy': -2.8676909107422865, 'ee.wz': -0.0065986483239183855, 'ee.gripper_pos': 71.81153533712428}, {'ee.x': 0.17203382552817434, 'ee.y': 0.11859896561747936, 'ee.z': 0.01164885963368019, 'ee.wx': 0.8040650854367607, 'ee.wy': -2.6912687576291816, 'ee.wz': 0.2132967914969007, 'ee.gripper_pos': 71.81153533712428}, {'ee.x': 0.17673042928176463, 'ee.y': -0.05238917038012587, 'ee.z': 0.018527441423327295, 'ee.wx': -0.681169341452901, 'ee.wy': -2.6090230331645663, 'ee.wz': -0.06892237300419922, 'ee.gripper_pos': 71.81153533712428}, {'ee.x': 0.1316569507157193, 'ee.y': 0.1227049510394132, 'ee.z': -0.004077691470871378, 'ee.wx': 1.1685823207522272, 'ee.wy': -2.860395377932909, 'ee.wz': 0.04654907312608682, 'ee.gripper_pos': 36.636880584890335}, {'ee.x': 0.12428343924690306, 'ee.y': -0.05244023603513443, 'ee.z': -0.005269276244774093, 'ee.wx': -1.044524398196324, 'ee.wy': -2.859454726262952, 'ee.wz': -0.031173914457716976, 'ee.gripper_pos': 36.636880584890335}]\n",
      "origin:  [0.18211797 0.03280408 0.00242877]\n",
      "u:  [ 0.15464528 -0.98792259  0.00968467]\n",
      "v:  [-0.98792708 -0.15453969  0.0108433 ]\n",
      "normal:  [-0.00921567 -0.01124461 -0.99989431]\n",
      "\n"
     ]
    }
   ],
   "execution_count": 7
  },
  {
   "metadata": {
    "ExecuteTime": {
     "end_time": "2025-10-31T08:03:24.206839Z",
     "start_time": "2025-10-31T08:03:24.200555Z"
    }
   },
   "cell_type": "code",
   "source": [
    "import math\n",
    "\n",
    "#compute orienation relative to plane\n",
    "R = np.column_stack((u, v, normal))\n",
    "def rotmat_to_euler_xyz(R):\n",
    "    sy = math.sqrt(R[0,0]**2 + R[1,0]**2)\n",
    "    singular = sy < 1e-6\n",
    "    if not singular:\n",
    "        roll  = math.atan2(R[2,1], R[2,2])\n",
    "        pitch = math.atan2(-R[2,0], sy)\n",
    "        yaw   = math.atan2(R[1,0], R[0,0])\n",
    "    else:\n",
    "        roll  = math.atan2(-R[1,2], R[1,1])\n",
    "        pitch = math.atan2(-R[2,0], sy)\n",
    "        yaw   = 0.0\n",
    "    return np.array([roll, pitch, yaw])\n",
    "\n",
    "euler_angles = rotmat_to_euler_xyz(R)\n",
    "print(\"euler angles (radians): \", euler_angles)\n",
    "print(\"euler angles (degrees): \", np.degrees(euler_angles))"
   ],
   "id": "d9f7990e8aacc3d5",
   "outputs": [
    {
     "name": "stdout",
     "output_type": "stream",
     "text": [
      "euler angles (radians):  [ 3.13074863 -0.00968482 -1.41552058]\n",
      "euler angles (degrees):  [179.37868338  -0.5548994  -81.10335493]\n"
     ]
    }
   ],
   "execution_count": 4
  },
  {
   "metadata": {
    "ExecuteTime": {
     "end_time": "2025-10-31T08:10:33.376796Z",
     "start_time": "2025-10-31T08:10:33.369573Z"
    }
   },
   "cell_type": "code",
   "source": [
    "#compare with pose data\n",
    "# Plane rotation matrix\n",
    "z_plane = R[:,2]  # tool z-axis\n",
    "\n",
    "def rotvec_to_rotmat(rotvec):\n",
    "    theta = np.linalg.norm(rotvec)\n",
    "    if theta < 1e-12:\n",
    "        return np.eye(3)\n",
    "    k = rotvec / theta\n",
    "    K = np.array([[0, -k[2], k[1]],\n",
    "                  [k[2], 0, -k[0]],\n",
    "                  [-k[1], k[0], 0]])\n",
    "    R = np.eye(3) + np.sin(theta) * K + (1 - np.cos(theta)) * (K @ K)\n",
    "    return R\n",
    "\n",
    "# For each sample\n",
    "for s in poses:\n",
    "    rotvec = np.array([s[\"ee.wx\"], s[\"ee.wy\"], s[\"ee.wz\"]])\n",
    "    R_sample = rotvec_to_rotmat(rotvec)\n",
    "    z_sample = R_sample[:,2]\n",
    "\n",
    "    dot_product = np.dot(z_plane, z_sample)\n",
    "    angle_deg = np.arccos(np.clip(dot_product, -1.0, 1.0)) * 180 / np.pi\n",
    "    print(f\"Angle between plane z-axis and sample z-axis: {angle_deg:.2f}°\")"
   ],
   "id": "e7cf4422016ce70d",
   "outputs": [
    {
     "name": "stdout",
     "output_type": "stream",
     "text": [
      "Angle between plane z-axis and sample z-axis: 12.94°\n",
      "Angle between plane z-axis and sample z-axis: 13.14°\n",
      "Angle between plane z-axis and sample z-axis: 19.69°\n",
      "Angle between plane z-axis and sample z-axis: 25.37°\n",
      "Angle between plane z-axis and sample z-axis: 2.58°\n",
      "Angle between plane z-axis and sample z-axis: 5.64°\n"
     ]
    }
   ],
   "execution_count": 8
  },
  {
   "metadata": {
    "ExecuteTime": {
     "end_time": "2025-10-31T08:14:28.981520Z",
     "start_time": "2025-10-31T08:14:28.974951Z"
    }
   },
   "cell_type": "code",
   "source": [
    "def rotmat_to_rotvec(R):\n",
    "    \"\"\"Convert rotation matrix to rotation vector (axis * angle).\"\"\"\n",
    "    theta = math.acos(np.clip((np.trace(R) - 1)/2, -1.0, 1.0))\n",
    "    if abs(theta) < 1e-12:\n",
    "        return np.zeros(3)  # zero rotation\n",
    "    rx = (R[2,1] - R[1,2]) / (2*np.sin(theta))\n",
    "    ry = (R[0,2] - R[2,0]) / (2*np.sin(theta))\n",
    "    rz = (R[1,0] - R[0,1]) / (2*np.sin(theta))\n",
    "    axis = np.array([rx, ry, rz])\n",
    "    return axis * theta\n",
    "\n",
    "for s in poses:\n",
    "    rotvec_sample = np.array([s[\"ee.wx\"], s[\"ee.wy\"], s[\"ee.wz\"]])\n",
    "    # Compute rotation difference vector\n",
    "    R_sample = rotvec_to_rotmat(rotvec_sample)\n",
    "    R_diff = R.T @ R_sample\n",
    "    rotvec_diff = rotmat_to_rotvec(R_diff)\n",
    "\n",
    "    angle_diff_deg = np.linalg.norm(rotvec_diff) * 180 / np.pi\n",
    "    print(f\"Rotation difference between plane and sample: {angle_diff_deg:.2f}°\")"
   ],
   "id": "8423ae9fe014a413",
   "outputs": [
    {
     "name": "stdout",
     "output_type": "stream",
     "text": [
      "Rotation difference between plane and sample: 81.07°\n",
      "Rotation difference between plane and sample: 117.81°\n",
      "Rotation difference between plane and sample: 68.18°\n",
      "Rotation difference between plane and sample: 129.34°\n",
      "Rotation difference between plane and sample: 54.51°\n",
      "Rotation difference between plane and sample: 139.04°\n"
     ]
    }
   ],
   "execution_count": 9
  },
  {
   "metadata": {},
   "cell_type": "code",
   "outputs": [],
   "execution_count": null,
   "source": "",
   "id": "2f90dec4631e6ab7"
  }
 ],
 "metadata": {
  "kernelspec": {
   "display_name": "Python 3",
   "language": "python",
   "name": "python3"
  },
  "language_info": {
   "codemirror_mode": {
    "name": "ipython",
    "version": 2
   },
   "file_extension": ".py",
   "mimetype": "text/x-python",
   "name": "python",
   "nbconvert_exporter": "python",
   "pygments_lexer": "ipython2",
   "version": "2.7.6"
  }
 },
 "nbformat": 4,
 "nbformat_minor": 5
}
