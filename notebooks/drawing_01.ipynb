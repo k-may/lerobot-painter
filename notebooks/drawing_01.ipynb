{
 "cells": [
  {
   "cell_type": "code",
   "id": "initial_id",
   "metadata": {
    "collapsed": true
   },
   "source": [
    "from lerobot.robots.so101_follower import SO101FollowerConfig\n",
    "from lerobot.teleoperators.so101_leader import SO101LeaderConfig\n",
    "\n",
    "leader_port ='/dev/tty.usbmodem5A460826291'\n",
    "leader_id = \"my_leader\"\n",
    "follower_port = '/dev/tty.usbmodem5A460840631'\n",
    "follower_id = \"my_follower\"\n",
    "\n",
    "\n",
    "robot_config = SO101FollowerConfig(\n",
    "    port=follower_port,\n",
    "    id=follower_id,\n",
    ")\n",
    "\n",
    "teleop_config = SO101LeaderConfig(\n",
    "    port=leader_port,\n",
    "    id=leader_id\n",
    ")"
   ],
   "outputs": [],
   "execution_count": null
  },
  {
   "metadata": {},
   "cell_type": "markdown",
   "source": [
    "#### Calibrate the robots\n",
    "```\n",
    "lerobot-calibrate --robot.type=so101_follower --robot.port=/dev/tty.usbmodem5A460826291 --robot.id=my_follower\n",
    "lerobot-calibrate --teleop.type=so101_leader --teleop.port=/dev/tty.usbmodem5A460840631 --teleop.id=my_leader\n",
    "\n",
    "lerobot-teleoperate --robot.type=so101_follower --robot.port=/dev/tty.usbmodem5A460840631 --robot.id=my_follower --teleop.type=so101_leader --teleop.port=/dev/tty.usbmodem5A460826291 --teleop.id=my_leader\n",
    "```"
   ],
   "id": "984056c7939f1fe3"
  },
  {
   "metadata": {},
   "cell_type": "code",
   "source": [
    "from lerobot.teleoperators.so101_leader import SO101Leader\n",
    "\n",
    "leader = SO101Leader(teleop_config)\n",
    "leader.connect(calibrate=False)\n",
    "leader.calibrate()\n",
    "leader.disconnect()"
   ],
   "id": "4613f6fd792e0580",
   "outputs": [],
   "execution_count": null
  },
  {
   "metadata": {},
   "cell_type": "code",
   "source": [
    "from lerobot.robots.so101_follower import SO101Follower\n",
    "\n",
    "follower = SO101Follower(robot_config)\n",
    "follower.connect()\n",
    "follower.calibrate()\n",
    "follower.disconnect()\n"
   ],
   "id": "aa1c26f67ba10b98",
   "outputs": [],
   "execution_count": null
  },
  {
   "metadata": {},
   "cell_type": "markdown",
   "source": [
    "To solve:\n",
    "1. calibrating a geometrical drawing plane in the robots space\n",
    "2. define a path of movement whereby the robots pencil moves along the path of a shape constrained to this plane"
   ],
   "id": "d83fdf0f16c6f60c"
  },
  {
   "metadata": {},
   "cell_type": "markdown",
   "source": [
    "### 1) Calibrate the drawing plane\n",
    "\n",
    "Goal: compute a rigid transform that maps 2D coordinates on your drawing plane (u, v) → 3D robot/world coordinates Pw. Also compute the plane normal so you can orient the pencil.\n",
    "\n",
    "Inputs you’ll produce from the robot:\n",
    "\n",
    "- a few measured 3D points (Pi) in the robot base/world frame obtained by touching the tip to known points on the drawing surface (or by probing).\n",
    "\n",
    "**Recommended methods**\n",
    "- Minimum (fast): touch three non-collinear points on the surface → compute plane exactly.\n",
    "- Better (robust): probe many points (N ≥ 6) and do a least-squares plane fit (SVD).\n",
    "\n",
    "**Math & algorithm (robust fit)**\n",
    "\n",
    "1. Collect points Pi  ∈ R3 (robot frame).\n",
    "2. Compute centroid  $\\bar{p} = \\frac{1}{N} \\sum_i p_i$.\n",
    "3. Center points: $ q_i = p_i - \\bar{p}$.\n",
    "4. SVD on data matrix $Q = [q_1, ..., q_N]^T$. The plane normal $ 𝑛 $ is the singular vector corresponding to smallest singular value.\n",
    "5. Choose a local 2D basis on the plane: pick $ 𝑢 = normalized( p_2 - p_1 )$ (or use any vector not parallel to n), then $ v = n x n $\n",
    "6. Origin of plane = $ O = \\bar{p}$ (or one of the measured points).\n",
    "7. The plane frame axes are $(𝑢,𝑣,𝑛)$ and origin $O$.\n",
    "\n",
    "\n",
    "You now have a 4×4 transform\n",
    "```\n",
    "[ u.x  v.x  n.x  O.x ]\n",
    "[ u.y  v.y  n.y  O.y ]\n",
    "[ u.z  v.z  n.z  O.z ]\n",
    "[  0    0    0    1  ]\n",
    "```\n",
    "\n",
    "\n"
   ],
   "id": "675e3b697b56c72c"
  },
  {
   "metadata": {},
   "cell_type": "markdown",
   "source": "#### **Projecting between frames:**",
   "id": "275aa1817e260535"
  },
  {
   "metadata": {
    "ExecuteTime": {
     "end_time": "2025-10-27T11:29:36.642020Z",
     "start_time": "2025-10-27T11:29:36.632943Z"
    }
   },
   "cell_type": "code",
   "source": [
    "import numpy as np\n",
    "\n",
    "def fit_plane_svd(points):\n",
    "    # points: (N,3) numpy array in robot/world frame\n",
    "    centroid = points.mean(axis=0)\n",
    "    Q = points - centroid\n",
    "    # SVD\n",
    "    _, _, vh = np.linalg.svd(Q, full_matrices=False)\n",
    "    normal = vh[-1, :]           # smallest singular vector\n",
    "    normal = normal / np.linalg.norm(normal)\n",
    "    # choose u axis: vector from first to second point projected onto plane\n",
    "    tmp = points[1] - points[0]\n",
    "    u = tmp - np.dot(tmp, normal) * normal\n",
    "    u = u / np.linalg.norm(u)\n",
    "    v = np.cross(normal, u)\n",
    "    T = np.eye(4)\n",
    "    T[0:3,0] = u\n",
    "    T[0:3,1] = v\n",
    "    T[0:3,2] = normal\n",
    "    T[0:3,3] = centroid\n",
    "    return T, u, v, normal, centroid"
   ],
   "id": "15d12e5948d4f327",
   "outputs": [],
   "execution_count": 3
  },
  {
   "metadata": {
    "ExecuteTime": {
     "end_time": "2025-10-27T11:29:37.803993Z",
     "start_time": "2025-10-27T11:29:37.788511Z"
    }
   },
   "cell_type": "code",
   "source": [
    "poses =  [\n",
    "    {\n",
    "      \"ee.x\": 0.3158883798275229,\n",
    "      \"ee.y\": -0.03322725556539996,\n",
    "      \"ee.z\": 0.03250470131557155,\n",
    "      \"ee.wx\": 0.4566220516913892,\n",
    "      \"ee.wy\": 2.8043348476378123,\n",
    "      \"ee.wz\": 0.016284124236182477,\n",
    "      \"ee.gripper_pos\": 8.529650690495533\n",
    "    },\n",
    "    {\n",
    "      \"ee.x\": 0.14681035635775944,\n",
    "      \"ee.y\": -0.01604882547504783,\n",
    "      \"ee.z\": 0.011356211341868636,\n",
    "      \"ee.wx\": 0.5558023953958608,\n",
    "      \"ee.wy\": 3.0757187774418857,\n",
    "      \"ee.wz\": 0.0005230973648989838,\n",
    "      \"ee.gripper_pos\": 8.529650690495533\n",
    "    },\n",
    "    {\n",
    "      \"ee.x\": 0.1857418370410859,\n",
    "      \"ee.y\": 0.09522742351983265,\n",
    "      \"ee.z\": 0.008408358077705722,\n",
    "      \"ee.wx\": 0.5727556708144156,\n",
    "      \"ee.wy\": -3.0676572453106887,\n",
    "      \"ee.wz\": 0.013160183992492863,\n",
    "      \"ee.gripper_pos\": 8.610885458976442\n",
    "    },\n",
    "    {\n",
    "      \"ee.x\": 0.33737895142680524,\n",
    "      \"ee.y\": 0.09662001197773004,\n",
    "      \"ee.z\": 0.0348509615626143,\n",
    "      \"ee.wx\": -0.15064054366598395,\n",
    "      \"ee.wy\": 2.736049688523208,\n",
    "      \"ee.wz\": 0.14368572594171874,\n",
    "      \"ee.gripper_pos\": 8.529650690495533\n",
    "    }\n",
    "  ]\n",
    "points = np.array([[p[\"ee.x\"], p[\"ee.y\"], p[\"ee.z\"]] for p in poses])\n",
    "T, u, v, normal, origin = fit_plane_svd(points)\n",
    "print(\"Plane origin:\", origin)\n",
    "print(\"Plane normal:\", normal)\n",
    "\n",
    "\n",
    "#check quality\n",
    "distances = (points - origin) @ normal\n",
    "print(\"Distances to plane:\", distances)\n",
    "print(\"RMS error:\", np.sqrt(np.mean(distances**2)))"
   ],
   "id": "23a0eb3027ebf07f",
   "outputs": [
    {
     "name": "stdout",
     "output_type": "stream",
     "text": [
      "Plane origin: [0.24645488 0.03564284 0.02178006]\n",
      "Plane normal: [-0.1433171   0.03588716  0.98902595]\n",
      "Distances to plane: [-0.00181561  0.00211624 -0.00238542  0.00208479]\n",
      "RMS error: 0.002110182333498747\n"
     ]
    }
   ],
   "execution_count": 4
  },
  {
   "metadata": {
    "ExecuteTime": {
     "end_time": "2025-10-27T11:29:39.546855Z",
     "start_time": "2025-10-27T11:29:39.541219Z"
    }
   },
   "cell_type": "code",
   "source": [
    "def points_to_plane_uv(points, origin, u, v):\n",
    "    \"\"\"\n",
    "    Project world points to 2D plane coordinates (s, t).\n",
    "    Returns array shape (N,2)\n",
    "    \"\"\"\n",
    "    offsets = points - origin  # (N,3)\n",
    "    s = offsets @ u            # dot with u\n",
    "    t = offsets @ v            # dot with v\n",
    "    return np.stack([s, t], axis=1)\n",
    "\n",
    "plane_coords = points_to_plane_uv(points, origin, u, v)\n",
    "print(\"2D plane coordinates (s,t):\", plane_coords)"
   ],
   "id": "84f1948705a7215d",
   "outputs": [
    {
     "name": "stdout",
     "output_type": "stream",
     "text": [
      "2D plane coordinates (s,t): [[-0.0767602   0.06151174]\n",
      " [ 0.09445392  0.06151174]\n",
      " [ 0.06764034 -0.05323808]\n",
      " [-0.08533406 -0.0697854 ]]\n"
     ]
    }
   ],
   "execution_count": 5
  },
  {
   "metadata": {},
   "cell_type": "markdown",
   "source": [
    "How to probe points with the robot:\n",
    "- Move the robot to a position above the drawing surface.\n",
    "- Lower the robot until the pencil just touches the surface (you can use force sensing or a small offset).\n",
    "- Record the robot's end-effector position as a 3D point.\n",
    "- Repeat for multiple points on the drawing surface."
   ],
   "id": "436b338756b05bdc"
  },
  {
   "metadata": {},
   "cell_type": "markdown",
   "source": [
    "### Tool Tilt\n",
    "\n",
    "The tilt angle is the angle between the tool's z-axis (pencil direction) and the plane normal. A tilt of 0° means the pencil is perpendicular to the plane, while larger angles indicate more tilt.\n",
    "![drawing](docs/IMG_20251027_123805780.jpg)\n"
   ],
   "id": "3fe7708d0ddcff61"
  },
  {
   "metadata": {
    "ExecuteTime": {
     "end_time": "2025-10-27T11:37:19.111236Z",
     "start_time": "2025-10-27T11:37:19.102601Z"
    }
   },
   "cell_type": "code",
   "source": [
    "#derive tilt from samples\n",
    "from scipy.spatial.transform import Rotation as R\n",
    "# Example: assuming wx, wy, wz are Euler angles in radians, XYZ order\n",
    "wx, wy, wz = poses[3][\"ee.wx\"], poses[3][\"ee.wy\"], poses[3][\"ee.wz\"]\n",
    "rot = R.from_euler('xyz', [wx, wy, wz])\n",
    "R_matrix = rot.as_matrix()  # 3x3 rotation matrix\n",
    "\n",
    "tool_z = R_matrix[:, 2]  # pencil direction\n",
    "plane_normal = normal     # must be unit vector\n",
    "\n",
    "# Ensure both are normalized\n",
    "tool_z /= np.linalg.norm(tool_z)\n",
    "plane_normal /= np.linalg.norm(plane_normal)\n",
    "\n",
    "# Angle between vectors\n",
    "cos_theta = np.dot(-tool_z, plane_normal)\n",
    "theta = np.arccos(np.clip(cos_theta, -1.0, 1.0))  # radians\n",
    "tilt_deg = np.degrees(theta)\n",
    "print(\"Tilt angle relative to plane normal:\", tilt_deg)"
   ],
   "id": "b9ba0f9438e41ca",
   "outputs": [
    {
     "name": "stdout",
     "output_type": "stream",
     "text": [
      "Tilt angle relative to plane normal: 19.36544159467261\n"
     ]
    }
   ],
   "execution_count": 9
  },
  {
   "metadata": {},
   "cell_type": "markdown",
   "source": [
    "\n",
    "### 2) Define and execute drawing paths constrained to that plane\n",
    "\n",
    "Workflow : create 2D shape => sample/resample into points along path -> map points tp plane3D -> generate EE poses with correct orientation and Z offsets -> IK to joint targets -> trajectory execution with smoothing\n",
    "\n",
    "#### Step A - Represent the 2D path\n",
    "\n",
    "options:\n",
    "- Vector format (SVG / paths) --preferred for shapes and text.\n",
    "- Paramettric definitions (circle, bezier, lines).\n",
    "- Raster -> contours (for image tracing).\n",
    "\n",
    "You can parse and SVG path to a sequence of 2D curves and the sample them at resolution $ d_s $ (mm per step)\n",
    "\n",
    "#### Step B -- Resample / smooth\n",
    "- Resample so consequtive points are within a chosen distance (e.g. 0.5-2 mm).\n",
    "- Apply a small smoothing filter if desired.\n",
    "\n",
    "#### Step C -- Convert 2D sample points to 3D world\n",
    "For each sampled 2D pont (s, t):\n",
    "* Computer world position `p_w = O + s*u + t*v`\n",
    "* Typical drawing poses:\n",
    "    * `hover_pose` at `z=+h` mm above the plane\n",
    "    * `contact_pose` at `z=-d` relative to the plane origin where pencil contacts (small negative offset along normal) -- or simply `z` at plane minus a small penetration if required for pressure\n",
    "\n",
    "Make the EE orientation such that the toll frames's z-axis aligns with `-normal` (pencil pointing toward plane). You can compose a rotation matrix `R` where the third column = `-normal`.\n",
    "\n",
    "#### Step D -- Solve IK & trajectory interpolation\n",
    "* For each 3D pose (position + orientation), compute joint angles with your robots's IK.\n",
    "    * If IK fails at any pose, try small perturbations, or plan in joint space.\n",
    "* Option 1 -- Task-space interpolation: for eahc adjacent sample, compute IK for each sampled pose (keeps straight line in task space).\n",
    "* Option 2 -- Joint-space interpolation: computer for key waypoints, then interpolate joint values (faster but may not keep pencil exactly on straight line).\n",
    "* Interpolate smoothly by time using trapezoidal velocity profiles or cubic splines for position and quaternion slerp for orientations.\n",
    "\n",
    "**Pen Up / down :**\n",
    "* Implemnent `pen_up()` and `pen_down()` as :\n",
    "    * Move to hover height `+h` and then move in `x,y` to next start; or\n",
    "    * Use sservo to lift/lower pencil if tool supports it.\n",
    "* If using pen contact via Z offset, plan gentle lowering speed and small dwell time.\n",
    "\n",
    "**Pytho skeleton for path -> world -> IK -> execute**\n",
    "\n",
    "```\n",
    "def sample_path_2d(path2d, ds=0.001):\n",
    "    # path2d: list of segments, or list of (x,y) points\n",
    "    # return list of (x,y) sampled at spacing ds\n",
    "    # <-- implement based on your path source (SVG, parametric)\n",
    "    pass\n",
    "\n",
    "def plane_point_to_world(T, s, t):\n",
    "    # T from fit_plane_svd: columns u,v,n and origin as last column\n",
    "    u = T[0:3,0]; v = T[0:3,1]; origin = T[0:3,3]\n",
    "    return origin + s*u + t*v\n",
    "\n",
    "def pose_for_point(world_pos, normal, hover=False, hover_height=0.02, contact_depth=0.0):\n",
    "    # returns 4x4 pose with orientation: z axis = -normal (pencil points down)\n",
    "    z = -normal\n",
    "    # choose x axis along plane u (or derived)\n",
    "    # Here assume we have u available; else compute arbitrary orthonormal frame\n",
    "    # Build rotation R = [x y z]\n",
    "    # set position = world_pos + z * (hover_height if hover else contact_depth)\n",
    "    pass\n",
    "\n",
    "# For each pose:\n",
    "# 1) IK -> joints\n",
    "# 2) Interpolate between joints and command robot at reasonable rate\n",
    "# 3) Wait for completion or monitor joint reached\n",
    "\n",
    "```\n"
   ],
   "id": "62261e089e4055df"
  },
  {
   "metadata": {},
   "cell_type": "markdown",
   "source": [
    "#### Quick example: calibrate with 3 points and draw a circle (complete small script)\n",
    "\n",
    "```\n",
    "import numpy as np\n",
    "# --- assume you have functions to move robot, read EE position and solve IK for your robot ---\n",
    "# probe_points = array of shape (N,3) recorded by touching surface\n",
    "probe_points = np.array([\n",
    "    [0.5, 0.1, 0.2],\n",
    "    [0.6, 0.15, 0.2],\n",
    "    [0.55, 0.2, 0.2],\n",
    "])\n",
    "\n",
    "T, u, v, normal, origin = fit_plane_svd(probe_points)\n",
    "\n",
    "# create 2D circle path in meters, center (0,0) radius 0.05\n",
    "angles = np.linspace(0, 2*np.pi, 300)\n",
    "circle2d = [(0.05*np.cos(a), 0.05*np.sin(a)) for a in angles]\n",
    "\n",
    "# convert to world poses and execute\n",
    "hover_h = 0.02   # 2 cm above plane\n",
    "contact_z = 0.0  # exactly on plane, or small negative for slight pressure\n",
    "\n",
    "for i, (s,t) in enumerate(circle2d):\n",
    "    pos_w = origin + s*u + t*v\n",
    "    # pose: position slightly above plane for first move, then lower\n",
    "    if i == 0:\n",
    "        goal_pos = pos_w + (-normal)*hover_h\n",
    "        move_robot_to_pose(goal_pos, orientation_from_axes(u, v, normal))\n",
    "        move_robot_to_pose(pos_w + (-normal)*0.001, orientation_from_axes(u, v, normal))  # touch lightly\n",
    "    else:\n",
    "        goal_pos = pos_w + (-normal)*0.001\n",
    "        joints = ik_solve(goal_pos, orientation_from_axes(u, v, normal))\n",
    "        command_robot_joints(joints)   # with interpolation/smoothness\n",
    "# lift pen\n",
    "move_robot_to_pose(origin + (-normal)*hover_h, orientation_from_axes(u, v, normal))\n",
    "\n",
    "```"
   ],
   "id": "b72077d974338574"
  },
  {
   "metadata": {},
   "cell_type": "code",
   "source": "",
   "id": "90dc485eb3e3de7",
   "outputs": [],
   "execution_count": null
  }
 ],
 "metadata": {
  "kernelspec": {
   "display_name": "Python 3",
   "language": "python",
   "name": "python3"
  },
  "language_info": {
   "codemirror_mode": {
    "name": "ipython",
    "version": 2
   },
   "file_extension": ".py",
   "mimetype": "text/x-python",
   "name": "python",
   "nbconvert_exporter": "python",
   "pygments_lexer": "ipython2",
   "version": "2.7.6"
  }
 },
 "nbformat": 4,
 "nbformat_minor": 5
}
